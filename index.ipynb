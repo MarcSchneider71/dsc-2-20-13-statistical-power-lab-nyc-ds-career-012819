{
 "cells": [
  {
   "cell_type": "markdown",
   "metadata": {},
   "source": [
    "# Statistical Power - Lab\n",
    "\n",
    "## Introduction\n",
    "\n",
    "\n",
    "In this lesson, we will consider a general-purpose simulation approach to estimating the power of an experimental design. Power analysis is an important aspect of experimental design. It allows us to determine the sample size required to detect an effect of a given size with a given degree of confidence. In other words, it allows us to determine the probability of detecting an effect of a given size with a given level of confidence, under sample size constraints. If this probability is unacceptably low, we would be wise to alter or abandon the experiment.\n",
    "\n",
    "The following four factors have an intimate relationship:\n",
    "\n",
    "* Sample size\n",
    "* Effect size\n",
    "* Significance level = P (Type I error) = probability of finding an effect that is not there\n",
    "* **Power = 1 - P (Type II error)** = probability of finding an effect that is there\n",
    "\n",
    "Given any three of these, we can easily determine the fourth.\n",
    "\n",
    "## Objectives\n",
    "\n",
    "You will be able to:\n",
    "\n",
    "* Describe the concept of “Power” in relation to p-value and effect size for hypothesis testing\n",
    "* Understand and critically evaluate the factors influencing the power of an experiment\n",
    "* Perform Power calculation using SciPy and Python\n",
    "* Demonstrate the impact of sample size on statistical power using simulations\n",
    "* Demonstrate the combined effect of sample size and effect size on statistical power using simulations  \n",
    "\n",
    "## Let's get started!\n",
    "  \n",
    "To start, let's import the necessary libraries required for this simuation:"
   ]
  },
  {
   "cell_type": "code",
   "execution_count": 4,
   "metadata": {},
   "outputs": [],
   "source": [
    "import numpy as np\n",
    "import scipy.stats as stats\n",
    "import pandas\n",
    "import matplotlib.pyplot as plt"
   ]
  },
  {
   "cell_type": "markdown",
   "metadata": {},
   "source": [
    "## Scenario\n",
    "\n",
    "A researcher wants to study how daily protein supplementation in the elderly population will affect baseline liver fat. The study budget will allow enrollment of 24 patients. Half will be randomized to a placebo group and half to the protein supplement treatment group and the trial will be carried out over one month. It is desired to see whether the mean change in percentage of liver fat from baseline to the end of the study differs between the two groups in the study. \n",
    "\n",
    "So we have the null hypothesis \n",
    "\n",
    "**There is no difference between experimental and control means i.e. H0 is equal to H1**\n",
    "\n",
    "And the alternative Hypothesis\n",
    "\n",
    "**There is a difference between experimental and control means i.e. H0 is not equal to H1**\n",
    "\n",
    "The researcher needs to know what power  will be obtained under the sample size restrictions to identify a change in mean percent liver fat of 0.17. Based on past results, a common standard deviation of 0.21 will be used for each treatment group in the power analysis. \n",
    "\n",
    "We will run a simulation with above information to calculate the power expected from the given sample size. From above we have following data to work with. "
   ]
  },
  {
   "cell_type": "code",
   "execution_count": 5,
   "metadata": {},
   "outputs": [],
   "source": [
    "# Number of patients in each group\n",
    "sample_size = 12\n",
    "\n",
    "# Control group\n",
    "control_mean = 0\n",
    "control_sd = .21\n",
    "\n",
    "# Experimental group\n",
    "experimental_mean = .17\n",
    "experimental_sd = .21\n",
    "\n",
    "#Set the number of simulations for our test = 1000\n",
    "n_sim = 1000"
   ]
  },
  {
   "cell_type": "markdown",
   "metadata": {},
   "source": [
    "We can now start running our simulations to run an independance t-test with above data and store the calculated p_value in our `p` array. Perform following tasks.\n",
    "\n",
    "* Initialize a numpy array and fill it with Nan values for storing the results (p_value) of our independance T-test.\n",
    "* For defined number of simulations (i.e. 1000), do the following:\n",
    "\n",
    "    * Generate a random normal variable with control mean and sd\n",
    "    * Generate a random normal variable with experimental mean and sd\n",
    "    * Run and independant t-test using control and experimental data\n",
    "    * Store the p value for each test\n",
    "\n",
    "* Calculate the total number and overall proportion of simulations and where Null hypothesis is rejected\n"
   ]
  },
  {
   "cell_type": "code",
   "execution_count": 6,
   "metadata": {},
   "outputs": [
    {
     "data": {
      "text/plain": [
       "0.495"
      ]
     },
     "execution_count": 6,
     "metadata": {},
     "output_type": "execute_result"
    }
   ],
   "source": [
    "# For reproducability \n",
    "np.random.seed(10)\n",
    "\n",
    "# Initialize array to store results\n",
    "p = (np.empty(n_sim))\n",
    "p.fill(np.nan)\n",
    "\n",
    "\n",
    "\n",
    "for i in range(n_sim):\n",
    "    control= np.random.normal(control_mean, control_sd, 12)\n",
    "    experiment= np.random.normal(experimental_mean, experimental_sd, 12)\n",
    "#  Run a for loop for range of values in n_sim\n",
    "    t_test= stats.ttest_ind(control, experiment)\n",
    "    p[i]= t_test[1]\n",
    "\n",
    "\n",
    "# num=0\n",
    "# for i in range(n_sim):\n",
    "#     if .17>experiment[i]:\n",
    "#         num += 1 \n",
    "#     else:\n",
    "#         continue\n",
    "\n",
    "# number of null hypothesis rejections\n",
    "num_null_rejects = np.sum(p<0.05)\n",
    "reject_proportion = num_null_rejects/float(n_sim)\n",
    "\n",
    "reject_proportion\n",
    "\n",
    "# 0.495"
   ]
  },
  {
   "cell_type": "markdown",
   "metadata": {},
   "source": [
    "Our results tell us that using 12 participants in each group and with given statistics, the power we obtain is 49% for our test settings. This can be interpreted as follows:\n",
    "\n",
    "> **If a large effect is truly present between control and experimental groups, then the null hypothesis (i.e. no difference with alpha 0.05) would be rejected 49% of times. **"
   ]
  },
  {
   "cell_type": "markdown",
   "metadata": {},
   "source": [
    "## Sample size requirements for a given effect size\n",
    "\n",
    "The researcher conducting this experiment is not satisfied with the results of power calculations shown above, and would like to work out what sample size is required in order to be able to reject the null hypothesis 95% of times that an effect size of 0.17 exists between control and experimental group means. (as compared to 49% with current sample size). \n",
    "\n",
    "To achieve this, we shall move on to a more common scenario, where a design and effect size is decided and we would like to know what sample size is needed to achieve a particular power. This is a straightforward extension of the previous example: we begin with a current sample size and calculate the associated power. We then perform such a calculation repeatedly, each time increasing the sample size, until the power has reached the desired level.\n",
    "\n",
    "Let's define our experimental parameters. "
   ]
  },
  {
   "cell_type": "code",
   "execution_count": 86,
   "metadata": {},
   "outputs": [],
   "source": [
    "# required power 0.95\n",
    "target = 0.95"
   ]
  },
  {
   "cell_type": "markdown",
   "metadata": {},
   "source": [
    "We will also need to define the number of simulations and a `current` variable for an iterative comparison with target power defined. We shall start with a sample size of 12 (current) and keep increasing it until the required power is achieved. We shall also increase the number of simulations to 10,000 for a more deterministic output. "
   ]
  },
  {
   "cell_type": "code",
   "execution_count": 87,
   "metadata": {},
   "outputs": [],
   "source": [
    "# minimum sample size to start the simulations \n",
    "sample_size = 12\n",
    "current = 0\n",
    "n_sim = 10000"
   ]
  },
  {
   "cell_type": "markdown",
   "metadata": {},
   "source": [
    "As above, perform the following\n",
    "\n",
    "* Initialize an empty array for storing results\n",
    "* initiliaze a list for storing samplesize x power summary\n",
    "* While current power is less than target power\n",
    "    * Generate distributions for control and experimental groups using given statistics (as before)\n",
    "    * Run a t-test and store results\n",
    "    * Calculate current power \n",
    "    * Output current sample size and power calculated for inspection\n",
    "    * Store results: Sample size , power\n",
    "    * increase the sample size by 1 and repeat"
   ]
  },
  {
   "cell_type": "code",
   "execution_count": 88,
   "metadata": {},
   "outputs": [],
   "source": [
    "np.random.seed(10)\n",
    "\n",
    "p = (np.empty(n_sim))\n",
    "p.fill(np.nan)"
   ]
  },
  {
   "cell_type": "code",
   "execution_count": 89,
   "metadata": {},
   "outputs": [
    {
     "data": {
      "text/plain": [
       "array([nan, nan, nan, ..., nan, nan, nan])"
      ]
     },
     "execution_count": 89,
     "metadata": {},
     "output_type": "execute_result"
    }
   ],
   "source": [
    "p"
   ]
  },
  {
   "cell_type": "code",
   "execution_count": 90,
   "metadata": {},
   "outputs": [],
   "source": [
    "power_sample = []"
   ]
  },
  {
   "cell_type": "code",
   "execution_count": 91,
   "metadata": {},
   "outputs": [],
   "source": [
    "current = 0\n",
    "target = 1"
   ]
  },
  {
   "cell_type": "code",
   "execution_count": 92,
   "metadata": {
    "scrolled": true
   },
   "outputs": [
    {
     "name": "stdout",
     "output_type": "stream",
     "text": [
      "Number of Samples: 12 , Calculated Power = 0.4754\n",
      "Number of Samples: 13 , Calculated Power = 0.5066\n",
      "Number of Samples: 14 , Calculated Power = 0.5423\n",
      "Number of Samples: 15 , Calculated Power = 0.5767\n",
      "Number of Samples: 16 , Calculated Power = 0.6038\n",
      "Number of Samples: 17 , Calculated Power = 0.6297\n",
      "Number of Samples: 18 , Calculated Power = 0.658\n",
      "Number of Samples: 19 , Calculated Power = 0.6783\n",
      "Number of Samples: 20 , Calculated Power = 0.7056\n",
      "Number of Samples: 21 , Calculated Power = 0.7266\n",
      "Number of Samples: 22 , Calculated Power = 0.7481\n",
      "Number of Samples: 23 , Calculated Power = 0.7624\n",
      "Number of Samples: 24 , Calculated Power = 0.7864\n",
      "Number of Samples: 25 , Calculated Power = 0.8031\n",
      "Number of Samples: 26 , Calculated Power = 0.8178\n",
      "Number of Samples: 27 , Calculated Power = 0.8354\n",
      "Number of Samples: 28 , Calculated Power = 0.8405\n",
      "Number of Samples: 29 , Calculated Power = 0.8568\n",
      "Number of Samples: 30 , Calculated Power = 0.8736\n",
      "Number of Samples: 31 , Calculated Power = 0.8786\n",
      "Number of Samples: 32 , Calculated Power = 0.89\n",
      "Number of Samples: 33 , Calculated Power = 0.8975\n",
      "Number of Samples: 34 , Calculated Power = 0.9077\n",
      "Number of Samples: 35 , Calculated Power = 0.9146\n",
      "Number of Samples: 36 , Calculated Power = 0.9188\n",
      "Number of Samples: 37 , Calculated Power = 0.9292\n",
      "Number of Samples: 38 , Calculated Power = 0.9369\n",
      "Number of Samples: 39 , Calculated Power = 0.9369\n",
      "Number of Samples: 40 , Calculated Power = 0.9482\n",
      "Number of Samples: 41 , Calculated Power = 0.9521\n",
      "Number of Samples: 42 , Calculated Power = 0.9589\n",
      "Number of Samples: 43 , Calculated Power = 0.9622\n",
      "Number of Samples: 44 , Calculated Power = 0.9623\n",
      "Number of Samples: 45 , Calculated Power = 0.968\n",
      "Number of Samples: 46 , Calculated Power = 0.9706\n",
      "Number of Samples: 47 , Calculated Power = 0.9722\n",
      "Number of Samples: 48 , Calculated Power = 0.9767\n",
      "Number of Samples: 49 , Calculated Power = 0.9774\n",
      "Number of Samples: 50 , Calculated Power = 0.9784\n",
      "Number of Samples: 51 , Calculated Power = 0.9845\n",
      "Number of Samples: 52 , Calculated Power = 0.9855\n",
      "Number of Samples: 53 , Calculated Power = 0.9869\n",
      "Number of Samples: 54 , Calculated Power = 0.988\n",
      "Number of Samples: 55 , Calculated Power = 0.9892\n",
      "Number of Samples: 56 , Calculated Power = 0.9896\n",
      "Number of Samples: 57 , Calculated Power = 0.9898\n",
      "Number of Samples: 58 , Calculated Power = 0.9914\n",
      "Number of Samples: 59 , Calculated Power = 0.992\n",
      "Number of Samples: 60 , Calculated Power = 0.9919\n",
      "Number of Samples: 61 , Calculated Power = 0.9936\n",
      "Number of Samples: 62 , Calculated Power = 0.9935\n",
      "Number of Samples: 63 , Calculated Power = 0.9954\n",
      "Number of Samples: 64 , Calculated Power = 0.9952\n",
      "Number of Samples: 65 , Calculated Power = 0.9956\n",
      "Number of Samples: 66 , Calculated Power = 0.9977\n",
      "Number of Samples: 67 , Calculated Power = 0.9977\n",
      "Number of Samples: 68 , Calculated Power = 0.9965\n",
      "Number of Samples: 69 , Calculated Power = 0.9974\n",
      "Number of Samples: 70 , Calculated Power = 0.9982\n",
      "Number of Samples: 71 , Calculated Power = 0.9985\n",
      "Number of Samples: 72 , Calculated Power = 0.9979\n",
      "Number of Samples: 73 , Calculated Power = 0.9981\n",
      "Number of Samples: 74 , Calculated Power = 0.9989\n",
      "Number of Samples: 75 , Calculated Power = 0.9991\n",
      "Number of Samples: 76 , Calculated Power = 0.9982\n",
      "Number of Samples: 77 , Calculated Power = 0.9985\n",
      "Number of Samples: 78 , Calculated Power = 0.9994\n",
      "Number of Samples: 79 , Calculated Power = 0.9992\n",
      "Number of Samples: 80 , Calculated Power = 0.9992\n",
      "Number of Samples: 81 , Calculated Power = 0.9994\n",
      "Number of Samples: 82 , Calculated Power = 0.9993\n",
      "Number of Samples: 83 , Calculated Power = 0.9996\n",
      "Number of Samples: 84 , Calculated Power = 0.9994\n",
      "Number of Samples: 85 , Calculated Power = 0.9999\n",
      "Number of Samples: 86 , Calculated Power = 0.9996\n",
      "Number of Samples: 87 , Calculated Power = 0.9996\n",
      "Number of Samples: 88 , Calculated Power = 0.9999\n",
      "Number of Samples: 89 , Calculated Power = 0.9999\n",
      "Number of Samples: 90 , Calculated Power = 0.9996\n",
      "Number of Samples: 91 , Calculated Power = 0.9999\n",
      "Number of Samples: 92 , Calculated Power = 0.9996\n",
      "Number of Samples: 93 , Calculated Power = 0.9997\n",
      "Number of Samples: 94 , Calculated Power = 0.9998\n",
      "Number of Samples: 95 , Calculated Power = 0.9998\n",
      "Number of Samples: 96 , Calculated Power = 0.9996\n",
      "Number of Samples: 97 , Calculated Power = 0.9999\n",
      "Number of Samples: 98 , Calculated Power = 1.0\n"
     ]
    }
   ],
   "source": [
    "while current< target:\n",
    "    data = np.empty([n_sim, sample_size, 2])\n",
    "    data.fill(np.nan)\n",
    "    p = (np.empty(n_sim))\n",
    "    p.fill(np.nan)\n",
    "    data[:,:,0]= np.random.normal(control_mean, control_sd, size = [n_sim,sample_size])\n",
    "    data[:,:,1]= np.random.normal(experimental_mean, experimental_sd, size= [n_sim, sample_size])\n",
    "#  Run a for loop for range of values in n_sim\n",
    "    t_test= stats.ttest_ind(data[:,:,0], data[:,:,1],axis=1)\n",
    "    p= t_test[1]\n",
    "    num_null_rejects = np.sum(p<.05)\n",
    "    power = num_null_rejects/float(n_sim)\n",
    "    current = power\n",
    "    print (\"Number of Samples:\", sample_size,\", Calculated Power =\", current)\n",
    "    power_sample.append((sample_size , current))\n",
    "    sample_size += 1\n",
    "\n",
    "# keep iterating as shown above until desired power is obtained\n",
    "\n",
    "    "
   ]
  },
  {
   "cell_type": "code",
   "execution_count": 93,
   "metadata": {},
   "outputs": [
    {
     "data": {
      "text/plain": [
       "[(12, 0.4754),\n",
       " (13, 0.5066),\n",
       " (14, 0.5423),\n",
       " (15, 0.5767),\n",
       " (16, 0.6038),\n",
       " (17, 0.6297),\n",
       " (18, 0.658),\n",
       " (19, 0.6783),\n",
       " (20, 0.7056),\n",
       " (21, 0.7266),\n",
       " (22, 0.7481),\n",
       " (23, 0.7624),\n",
       " (24, 0.7864),\n",
       " (25, 0.8031),\n",
       " (26, 0.8178),\n",
       " (27, 0.8354),\n",
       " (28, 0.8405),\n",
       " (29, 0.8568),\n",
       " (30, 0.8736),\n",
       " (31, 0.8786),\n",
       " (32, 0.89),\n",
       " (33, 0.8975),\n",
       " (34, 0.9077),\n",
       " (35, 0.9146),\n",
       " (36, 0.9188),\n",
       " (37, 0.9292),\n",
       " (38, 0.9369),\n",
       " (39, 0.9369),\n",
       " (40, 0.9482),\n",
       " (41, 0.9521),\n",
       " (42, 0.9589),\n",
       " (43, 0.9622),\n",
       " (44, 0.9623),\n",
       " (45, 0.968),\n",
       " (46, 0.9706),\n",
       " (47, 0.9722),\n",
       " (48, 0.9767),\n",
       " (49, 0.9774),\n",
       " (50, 0.9784),\n",
       " (51, 0.9845),\n",
       " (52, 0.9855),\n",
       " (53, 0.9869),\n",
       " (54, 0.988),\n",
       " (55, 0.9892),\n",
       " (56, 0.9896),\n",
       " (57, 0.9898),\n",
       " (58, 0.9914),\n",
       " (59, 0.992),\n",
       " (60, 0.9919),\n",
       " (61, 0.9936),\n",
       " (62, 0.9935),\n",
       " (63, 0.9954),\n",
       " (64, 0.9952),\n",
       " (65, 0.9956),\n",
       " (66, 0.9977),\n",
       " (67, 0.9977),\n",
       " (68, 0.9965),\n",
       " (69, 0.9974),\n",
       " (70, 0.9982),\n",
       " (71, 0.9985),\n",
       " (72, 0.9979),\n",
       " (73, 0.9981),\n",
       " (74, 0.9989),\n",
       " (75, 0.9991),\n",
       " (76, 0.9982),\n",
       " (77, 0.9985),\n",
       " (78, 0.9994),\n",
       " (79, 0.9992),\n",
       " (80, 0.9992),\n",
       " (81, 0.9994),\n",
       " (82, 0.9993),\n",
       " (83, 0.9996),\n",
       " (84, 0.9994),\n",
       " (85, 0.9999),\n",
       " (86, 0.9996),\n",
       " (87, 0.9996),\n",
       " (88, 0.9999),\n",
       " (89, 0.9999),\n",
       " (90, 0.9996),\n",
       " (91, 0.9999),\n",
       " (92, 0.9996),\n",
       " (93, 0.9997),\n",
       " (94, 0.9998),\n",
       " (95, 0.9998),\n",
       " (96, 0.9996),\n",
       " (97, 0.9999),\n",
       " (98, 1.0)]"
      ]
     },
     "execution_count": 93,
     "metadata": {},
     "output_type": "execute_result"
    }
   ],
   "source": [
    "power_sample"
   ]
  },
  {
   "cell_type": "code",
   "execution_count": 94,
   "metadata": {},
   "outputs": [
    {
     "data": {
      "text/plain": [
       "(13, 0.5066)"
      ]
     },
     "execution_count": 94,
     "metadata": {},
     "output_type": "execute_result"
    }
   ],
   "source": [
    "power_sample[1]"
   ]
  },
  {
   "cell_type": "code",
   "execution_count": 95,
   "metadata": {},
   "outputs": [
    {
     "data": {
      "text/plain": [
       "[<matplotlib.lines.Line2D at 0x7f311c5a5278>,\n",
       " <matplotlib.lines.Line2D at 0x7f311c5a5630>]"
      ]
     },
     "execution_count": 95,
     "metadata": {},
     "output_type": "execute_result"
    },
    {
     "data": {
      "image/png": "[encoded data removed]",
      "text/plain": [
       "<Figure size 720x360 with 1 Axes>"
      ]
     },
     "metadata": {
      "needs_background": "light"
     },
     "output_type": "display_data"
    }
   ],
   "source": [
    "plt.plot(power_sample)"
   ]
  },
  {
   "cell_type": "code",
   "execution_count": 96,
   "metadata": {},
   "outputs": [
    {
     "data": {
      "text/plain": [
       "[(12, 0.4754),\n",
       " (13, 0.5066),\n",
       " (14, 0.5423),\n",
       " (15, 0.5767),\n",
       " (16, 0.6038),\n",
       " (17, 0.6297),\n",
       " (18, 0.658),\n",
       " (19, 0.6783),\n",
       " (20, 0.7056),\n",
       " (21, 0.7266),\n",
       " (22, 0.7481),\n",
       " (23, 0.7624),\n",
       " (24, 0.7864),\n",
       " (25, 0.8031),\n",
       " (26, 0.8178),\n",
       " (27, 0.8354),\n",
       " (28, 0.8405),\n",
       " (29, 0.8568),\n",
       " (30, 0.8736),\n",
       " (31, 0.8786),\n",
       " (32, 0.89),\n",
       " (33, 0.8975),\n",
       " (34, 0.9077),\n",
       " (35, 0.9146),\n",
       " (36, 0.9188),\n",
       " (37, 0.9292),\n",
       " (38, 0.9369),\n",
       " (39, 0.9369),\n",
       " (40, 0.9482),\n",
       " (41, 0.9521),\n",
       " (42, 0.9589),\n",
       " (43, 0.9622),\n",
       " (44, 0.9623),\n",
       " (45, 0.968),\n",
       " (46, 0.9706),\n",
       " (47, 0.9722),\n",
       " (48, 0.9767),\n",
       " (49, 0.9774),\n",
       " (50, 0.9784),\n",
       " (51, 0.9845),\n",
       " (52, 0.9855),\n",
       " (53, 0.9869),\n",
       " (54, 0.988),\n",
       " (55, 0.9892),\n",
       " (56, 0.9896),\n",
       " (57, 0.9898),\n",
       " (58, 0.9914),\n",
       " (59, 0.992),\n",
       " (60, 0.9919),\n",
       " (61, 0.9936),\n",
       " (62, 0.9935),\n",
       " (63, 0.9954),\n",
       " (64, 0.9952),\n",
       " (65, 0.9956),\n",
       " (66, 0.9977),\n",
       " (67, 0.9977),\n",
       " (68, 0.9965),\n",
       " (69, 0.9974),\n",
       " (70, 0.9982),\n",
       " (71, 0.9985),\n",
       " (72, 0.9979),\n",
       " (73, 0.9981),\n",
       " (74, 0.9989),\n",
       " (75, 0.9991),\n",
       " (76, 0.9982),\n",
       " (77, 0.9985),\n",
       " (78, 0.9994),\n",
       " (79, 0.9992),\n",
       " (80, 0.9992),\n",
       " (81, 0.9994),\n",
       " (82, 0.9993),\n",
       " (83, 0.9996),\n",
       " (84, 0.9994),\n",
       " (85, 0.9999),\n",
       " (86, 0.9996),\n",
       " (87, 0.9996),\n",
       " (88, 0.9999),\n",
       " (89, 0.9999),\n",
       " (90, 0.9996),\n",
       " (91, 0.9999),\n",
       " (92, 0.9996),\n",
       " (93, 0.9997),\n",
       " (94, 0.9998),\n",
       " (95, 0.9998),\n",
       " (96, 0.9996),\n",
       " (97, 0.9999),\n",
       " (98, 1.0)]"
      ]
     },
     "execution_count": 96,
     "metadata": {},
     "output_type": "execute_result"
    }
   ],
   "source": [
    "power_sample"
   ]
  },
  {
   "cell_type": "code",
   "execution_count": 97,
   "metadata": {},
   "outputs": [],
   "source": [
    "#power_sample = []"
   ]
  },
  {
   "cell_type": "code",
   "execution_count": 98,
   "metadata": {},
   "outputs": [],
   "source": [
    "#power_sample"
   ]
  },
  {
   "cell_type": "markdown",
   "metadata": {},
   "source": [
    "We can also plot calculated power against sample size to visually inspect the effect of increasing sample size. "
   ]
  },
  {
   "cell_type": "code",
   "execution_count": 99,
   "metadata": {},
   "outputs": [
    {
     "data": {
      "image/png": "[encoded data removed]",
      "text/plain": [
       "<Figure size 720x360 with 1 Axes>"
      ]
     },
     "metadata": {
      "needs_background": "light"
     },
     "output_type": "display_data"
    }
   ],
   "source": [
    "# Plot a sample size X Power line graph \n",
    "\n",
    "from pylab import rcParams\n",
    "rcParams['figure.figsize'] = 10, 5\n",
    "plt.figure()\n",
    "plt.title('Power vs. Sample Size')\n",
    "plt.xlabel('Sample Size')\n",
    "plt.ylabel('Power')\n",
    "ans = power_sample\n",
    "df = pandas.DataFrame(ans, index=None)\n",
    "plt.plot(df[0], df[1]);"
   ]
  },
  {
   "cell_type": "markdown",
   "metadata": {},
   "source": [
    "Above output tells us that for our researcher, in order to get the required power (95%) for the observed effect of 0.17 , he would need considerably higher number of patients in each group i.e. 41. "
   ]
  },
  {
   "cell_type": "markdown",
   "metadata": {},
   "source": [
    ">**BONUS EXERCISE: Calculating power across varying sample and effect sizes**\n",
    "\n",
    ">In the previous examples, we have assumed a fixed effect size. However, perhaps we want to investigate how power changes with both effect size and sample size. This is again a straightforward extension of the previous example. \n",
    "\n",
    ">1. Generate samples with sizes ranging from 10 to 50 per group\n",
    "2. Set effect size from less than small (i.e. 0.1) to slightly bigger than large (0.8)\n",
    "3. set number of simulations to 10000\n",
    "4. Use nested For loop i.e. for all chosen effect sizes,for all chosen sample sizes, for all groups (i.e. 2) - run the 2 sample independant test and store power, chosen sample size and effect size\n",
    "5. Visualize your data in a meaningful way to communicate results "
   ]
  },
  {
   "cell_type": "markdown",
   "metadata": {},
   "source": [
    "## Summary\n",
    "\n",
    "In this lesson, we recieved an understanding around the idea of \"statistical power\" and how sample size, p_value and effect size impact the power of an experiment. We ran a simulation to determine the sample size that would provide a given value of power. In the second simulation, we saw the combined effect of sample size and effect size on the power. We can conclude this lesson with the ideas that a) Statistical power increases as we increase the sample size and b) with a small effect size, we require a large number of samples to achieve required power and vice versa. "
   ]
  }
 ],
 "metadata": {
  "kernelspec": {
   "display_name": "Python 3",
   "language": "python",
   "name": "python3"
  },
  "language_info": {
   "codemirror_mode": {
    "name": "ipython",
    "version": 3
   },
   "file_extension": ".py",
   "mimetype": "text/x-python",
   "name": "python",
   "nbconvert_exporter": "python",
   "pygments_lexer": "ipython3",
   "version": "3.6.6"
  }
 },
 "nbformat": 4,
 "nbformat_minor": 2
}
